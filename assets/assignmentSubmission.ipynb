{
 "cells": [
  {
   "cell_type": "code",
   "execution_count": 1,
   "metadata": {},
   "outputs": [
    {
     "ename": "NameError",
     "evalue": "name 'Entry' is not defined",
     "output_type": "error",
     "traceback": [
      "\u001b[1;31m---------------------------------------------------------------------------\u001b[0m",
      "\u001b[1;31mNameError\u001b[0m                                 Traceback (most recent call last)",
      "\u001b[1;32md:\\sadeMain\\assignmentSubmission.ipynb Cell 1\u001b[0m in \u001b[0;36m<cell line: 88>\u001b[1;34m()\u001b[0m\n\u001b[0;32m     <a href='vscode-notebook-cell:/d%3A/sadeMain/assignmentSubmission.ipynb#W0sZmlsZQ%3D%3D?line=83'>84</a>\u001b[0m     myButton\u001b[39m.\u001b[39mplace(x\u001b[39m=\u001b[39m\u001b[39m940\u001b[39m, y\u001b[39m=\u001b[39m\u001b[39m420\u001b[39m)\n\u001b[0;32m     <a href='vscode-notebook-cell:/d%3A/sadeMain/assignmentSubmission.ipynb#W0sZmlsZQ%3D%3D?line=86'>87</a>\u001b[0m     root\u001b[39m.\u001b[39mmainloop()\n\u001b[1;32m---> <a href='vscode-notebook-cell:/d%3A/sadeMain/assignmentSubmission.ipynb#W0sZmlsZQ%3D%3D?line=87'>88</a>\u001b[0m assignmentSubmission()\n",
      "\u001b[1;32md:\\sadeMain\\assignmentSubmission.ipynb Cell 1\u001b[0m in \u001b[0;36massignmentSubmission\u001b[1;34m()\u001b[0m\n\u001b[0;32m     <a href='vscode-notebook-cell:/d%3A/sadeMain/assignmentSubmission.ipynb#W0sZmlsZQ%3D%3D?line=65'>66</a>\u001b[0m usernameLabel\u001b[39m.\u001b[39mplace(relx\u001b[39m=\u001b[39m\u001b[39m0.20\u001b[39m, rely\u001b[39m=\u001b[39m\u001b[39m0.35\u001b[39m)\n\u001b[0;32m     <a href='vscode-notebook-cell:/d%3A/sadeMain/assignmentSubmission.ipynb#W0sZmlsZQ%3D%3D?line=67'>68</a>\u001b[0m username\u001b[39m=\u001b[39mStringVar()\n\u001b[1;32m---> <a href='vscode-notebook-cell:/d%3A/sadeMain/assignmentSubmission.ipynb#W0sZmlsZQ%3D%3D?line=68'>69</a>\u001b[0m usernameEntry \u001b[39m=\u001b[39m Entry(root, textvariable\u001b[39m=\u001b[39musername, font\u001b[39m=\u001b[39m(\u001b[39m'\u001b[39m\u001b[39mtimes\u001b[39m\u001b[39m'\u001b[39m, \u001b[39m9\u001b[39m, \u001b[39m'\u001b[39m\u001b[39m bold \u001b[39m\u001b[39m'\u001b[39m))\n\u001b[0;32m     <a href='vscode-notebook-cell:/d%3A/sadeMain/assignmentSubmission.ipynb#W0sZmlsZQ%3D%3D?line=69'>70</a>\u001b[0m usernameEntry\u001b[39m.\u001b[39mplace(relx\u001b[39m=\u001b[39m\u001b[39m0.45\u001b[39m, rely\u001b[39m=\u001b[39m\u001b[39m0.35\u001b[39m,relwidth\u001b[39m=\u001b[39m\u001b[39m0.40\u001b[39m, relheight\u001b[39m=\u001b[39m\u001b[39m0.05\u001b[39m)\n\u001b[0;32m     <a href='vscode-notebook-cell:/d%3A/sadeMain/assignmentSubmission.ipynb#W0sZmlsZQ%3D%3D?line=71'>72</a>\u001b[0m passwordLabel \u001b[39m=\u001b[39m tkinter\u001b[39m.\u001b[39mLabel(root,text\u001b[39m=\u001b[39m\u001b[39m\"\u001b[39m\u001b[39mUNIVERSITY ROLLNO\u001b[39m\u001b[39m\"\u001b[39m,fg\u001b[39m=\u001b[39m\u001b[39m\"\u001b[39m\u001b[39mblack\u001b[39m\u001b[39m\"\u001b[39m, bg\u001b[39m=\u001b[39m\u001b[39m\"\u001b[39m\u001b[39m#344A70\u001b[39m\u001b[39m\"\u001b[39m, width\u001b[39m=\u001b[39m\u001b[39m20\u001b[39m,font\u001b[39m=\u001b[39m(\u001b[39m'\u001b[39m\u001b[39mtimes\u001b[39m\u001b[39m'\u001b[39m, \u001b[39m20\u001b[39m, \u001b[39m'\u001b[39m\u001b[39m bold \u001b[39m\u001b[39m'\u001b[39m))\n",
      "\u001b[1;31mNameError\u001b[0m: name 'Entry' is not defined"
     ]
    },
    {
     "ename": "",
     "evalue": "",
     "output_type": "error",
     "traceback": [
      "\u001b[1;31mThe Kernel crashed while executing code in the the current cell or a previous cell. Please review the code in the cell(s) to identify a possible cause of the failure. Click <a href='https://aka.ms/vscodeJupyterKernelCrash'>here</a> for more info. View Jupyter <a href='command:jupyter.viewOutput'>log</a> for further details."
     ]
    }
   ],
   "source": [
    "import tkinter\n",
    "from tkinter import Entry, StringVar, Toplevel, ttk\n",
    "from tkinter import filedialog\n",
    "import time\n",
    "import datetime\n",
    "import csv\n",
    "import os \n",
    "import tkinter.ttk\n",
    "\n",
    "def assignmentSubmission():\n",
    "    global s\n",
    "    def destroyer():\n",
    "        root.destroy()\n",
    "    def fileLoad():\n",
    "        root.filename = filedialog.askopenfilename(initialdir=\"\", title=\"Select A file\", filetypes=(\n",
    "            ('pdf files', '*.pdf'), (\"all files\", \"*.*\")))\n",
    "        s = root.filename\n",
    "        #print(s)\n",
    "        s2=\"\"    \n",
    "        for char in s[ :  : -1] :\n",
    "            if char=='/' :\n",
    "                break\n",
    "            s2=char+s2\n",
    "        if len(root.filename) != 0:\n",
    "            my_label = tkinter.Label(root, text=s2,bg=\"white\",fg=\"black\",width=60,height=2)\n",
    "            my_label.place(x=400, y=422)\n",
    "        username=usernameEntry.get()\n",
    "        rollNo=rollNoEntry.get()\n",
    "        ts = time.time()\n",
    "        date = datetime.datetime.fromtimestamp(ts).strftime('%Y-%m-%d')\n",
    "        timeStamp = datetime.datetime.fromtimestamp(ts).strftime('%H:%M:%S')\n",
    "        #print(username)\n",
    "        #print(rollNo)\n",
    "        #print(date)\n",
    "        #print(timeStamp)\n",
    "        #print(s)\n",
    "    \n",
    "        \n",
    "        print(s2)\n",
    "        row = [rollNo,username,s2,date,timeStamp]\n",
    "        header=['Rollno','username','assignment','date','timeStamp']\n",
    "        if os.path.exists('D:/sadeMain/AssignmentDetails/assignment.csv') :\n",
    "            with open('D:/sadeMain/AssignmentDetails/assignment.csv','a+') as file :\n",
    "                writer = csv.writer(file)\n",
    "                writer.writerow(row)\n",
    "        else :\n",
    "            try:\n",
    "                with open('D:/sadeMain/AssignmentDetails/assignment.csv', 'w') as file:\n",
    "                    writer=csv.writer(file)\n",
    "                    writer.writerow(header)\n",
    "                    writer.writerow(row)\n",
    "            except FileNotFoundError:\n",
    "                    print(\"Directory Does not Exist\")\n",
    "        submitButton=tkinter.Button(root, text=\"Submit Button\", command=destroyer, bg=\"black\",width=20, fg=\"white\",height=2)\n",
    "        submitButton.place(x=940,y=470)\n",
    "        \n",
    "    \n",
    "    root = tkinter.Tk()\n",
    "    root.title(\"Assignment Submission Portal\")\n",
    "    root.iconbitmap('')\n",
    "    root.geometry('1280x720')\n",
    "    root.resizable(True, True)\n",
    "    root.configure(background=\"#344A70\")\n",
    "    \n",
    "    message = tkinter.Label(root, text=\"Assignment Submission Portal\" ,fg=\"black\",bg=\"#344A70\" ,width=60 ,height=1,font=('times', 29, ' bold '))\n",
    "    message.place(x=5, y=20,relwidth=1)\n",
    "    \n",
    "    usernameLabel = tkinter.Label(root, text=\"USERNAME\",fg=\"black\", bg=\"#344A70\", width=20,font=('times', 20, ' bold '))\n",
    "    usernameLabel.place(relx=0.20, rely=0.35)\n",
    "    \n",
    "    username=StringVar()\n",
    "    usernameEntry = Entry(root, textvariable=username, font=('times', 9, ' bold '))\n",
    "    usernameEntry.place(relx=0.45, rely=0.35,relwidth=0.40, relheight=0.05)\n",
    "    \n",
    "    passwordLabel = tkinter.Label(root,text=\"UNIVERSITY ROLLNO\",fg=\"black\", bg=\"#344A70\", width=20,font=('times', 20, ' bold '))\n",
    "    passwordLabel.place(relx=0.20, rely=0.5)\n",
    "    \n",
    "    rollNo=StringVar()\n",
    "    rollNoEntry = Entry(root, textvariable=rollNo, font=('times', 9, ' bold '))\n",
    "    rollNoEntry.place(relx=0.45, rely=0.5,relwidth=0.40, relheight=0.05)\n",
    "    \n",
    "    #loginButton = tkinter.Button(root, text=\"Submit\",command=submitAssignment, bg=\"black\",width=20, fg=\"white\",height=2)\n",
    "    #loginButton.place(x=700,y=420)\n",
    "    \n",
    "    myButton = tkinter.Button(root, text=\"Open File\", command=fileLoad, bg=\"black\",width=20, fg=\"white\",height=2)\n",
    "    myButton.pack()\n",
    "    myButton.place(x=940, y=420)\n",
    "    \n",
    "    \n",
    "    root.mainloop()\n",
    "assignmentSubmission()\n"
   ]
  }
 ],
 "metadata": {
  "kernelspec": {
   "display_name": "Python 3.9.12 ('base')",
   "language": "python",
   "name": "python3"
  },
  "language_info": {
   "codemirror_mode": {
    "name": "ipython",
    "version": 3
   },
   "file_extension": ".py",
   "mimetype": "text/x-python",
   "name": "python",
   "nbconvert_exporter": "python",
   "pygments_lexer": "ipython3",
   "version": "3.9.12"
  },
  "orig_nbformat": 4,
  "vscode": {
   "interpreter": {
    "hash": "ad2bdc8ecc057115af97d19610ffacc2b4e99fae6737bb82f5d7fb13d2f2c186"
   }
  }
 },
 "nbformat": 4,
 "nbformat_minor": 2
}
