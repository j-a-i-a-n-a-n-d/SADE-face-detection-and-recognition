{
 "cells": [
  {
   "cell_type": "code",
   "execution_count": 1,
   "id": "400361cc",
   "metadata": {},
   "outputs": [],
   "source": [
    "def mailsubmit():\n",
    "            recipient=recEntry.get()\n",
    "            date = datetime.date.today().strftime(\"%B %d, %Y\")\n",
    "            path = 'D:/sademain/Attendance'\n",
    "            os.chdir(path)\n",
    "            files = sorted(os.listdir(os.getcwd()), key=os.path.getmtime)\n",
    "            newest = files[-1]\n",
    "            filename = newest\n",
    "            sub = \"Attendance Report for \" + str(date)\n",
    "            yag = yagmail.SMTP(unm, psw)\n",
    "            yag.send(\n",
    "                to=recipient, #recipient email ID\n",
    "                subject=sub, # email subject\n",
    "                contents=\"Attendance Details of the Company\",  # email body\n",
    "                attachments= filename  # file attached\n",
    "            )\n",
    "            messagebox.showinfo(\"Email Sent\", \"Email Successfully Sent!\",parent=mailwindow)"
   ]
  },
  {
   "cell_type": "code",
   "execution_count": null,
   "id": "94ab0173",
   "metadata": {},
   "outputs": [],
   "source": []
  }
 ],
 "metadata": {
  "kernelspec": {
   "display_name": "Python 3.7.0 64-bit",
   "language": "python",
   "name": "python3"
  },
  "language_info": {
   "codemirror_mode": {
    "name": "ipython",
    "version": 3
   },
   "file_extension": ".py",
   "mimetype": "text/x-python",
   "name": "python",
   "nbconvert_exporter": "python",
   "pygments_lexer": "ipython3",
   "version": "3.7.0 (v3.7.0:1bf9cc5093, Jun 27 2018, 04:59:51) [MSC v.1914 64 bit (AMD64)]"
  },
  "vscode": {
   "interpreter": {
    "hash": "5109d816b82be14675a6b11f8e0f0d2e80f029176ed3710d54e125caa8520dfd"
   }
  }
 },
 "nbformat": 4,
 "nbformat_minor": 5
}
