{
 "cells": [
  {
   "cell_type": "code",
   "execution_count": 1,
   "id": "ecf22e3f",
   "metadata": {},
   "outputs": [],
   "source": [
    "def webcamCheck():\n",
    "    import cv2\n",
    "    face_cascade = cv2.CascadeClassifier('haarcascade_frontalface_default.xml')\n",
    "    capture = cv2.VideoCapture(0)\n",
    "    while True:\n",
    "        _, img = capture.read()\n",
    "        gray = cv2.cvtColor(img, cv2.COLOR_BGR2GRAY) #grayscale\n",
    "        # Detect the faces\n",
    "        faces = face_cascade.detectMultiScale(gray, 1.3, 5, minSize=(30, 30),flags = cv2.CASCADE_SCALE_IMAGE)\n",
    "        # Draw the rectangle around each face\n",
    "        for (x, y, w, h) in faces:\n",
    "            cv2.rectangle(img, (x, y), (x + w, y + h), (10,159,255), 2)\n",
    "        cv2.imshow('Webcam Check', img)\n",
    "        if cv2.waitKey(1) & 0xFF == ord('q'):         # Stop if escape key is pressed\n",
    "            break\n",
    "    # Release the VideoCapture object\n",
    "    capture.release()\n",
    "    cv2.destroyAllWindows()\n",
    "webcamCheck()      #-----------------------temporary------checking"
   ]
  }
 ],
 "metadata": {
  "kernelspec": {
   "display_name": "Python 3 (ipykernel)",
   "language": "python",
   "name": "python3"
  },
  "language_info": {
   "codemirror_mode": {
    "name": "ipython",
    "version": 3
   },
   "file_extension": ".py",
   "mimetype": "text/x-python",
   "name": "python",
   "nbconvert_exporter": "python",
   "pygments_lexer": "ipython3",
   "version": "3.7.0"
  },
  "vscode": {
   "interpreter": {
    "hash": "5109d816b82be14675a6b11f8e0f0d2e80f029176ed3710d54e125caa8520dfd"
   }
  }
 },
 "nbformat": 4,
 "nbformat_minor": 5
}
