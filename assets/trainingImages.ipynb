{
 "cells": [
  {
   "cell_type": "code",
   "execution_count": 1,
   "id": "759d55e7",
   "metadata": {},
   "outputs": [],
   "source": [
    "#Function to get Images and labels\n",
    "def getImagesAndLabels(path):\n",
    "    # get the path of all the files in the folder\n",
    "    imagePaths = [os.path.join(path, f) for f in os.listdir(path)]\n",
    "    # create empty face list\n",
    "    faces = []\n",
    "    # create empty ID list\n",
    "    Ids = []\n",
    "    # now looping through all the image paths and loading the Ids and the images of the face\n",
    "    for imagePath in imagePaths:\n",
    "        # loading the image and converting it to gray scale\n",
    "        pilImage = Image.open(imagePath).convert('L')\n",
    "        # Now we are converting the PIL image into numpy array\n",
    "        imageNp = np.array(pilImage, 'uint8')\n",
    "        # getting the Id from the image\n",
    "        Id = int(os.path.split(imagePath)[-1].split(\".\")[1])\n",
    "        # extract the face from the training image sample\n",
    "        faces.append(imageNp)\n",
    "        Ids.append(Id)\n",
    "    return faces, Ids\n",
    "#Function to train images saved in the desired file location\n",
    "def TrainImages():\n",
    "    recognizer = cv2.face_LBPHFaceRecognizer.create()\n",
    "    harcascadePath = \"D:/FRAS/haarcascade_frontalface_default.xml\"\n",
    "    detector = cv2.CascadeClassifier(harcascadePath)\n",
    "    faces, Id = getImagesAndLabels(\"D:/FRAS/TrainingImages\")\n",
    "    Thread(target = recognizer.train(faces, np.array(Id))).start()\n",
    "    recognizer.save(\"D:/FRAS/TrainingImageLabel\"+os.sep+\"Trainner.yml\")\n",
    "    messagebox.showinfo(\"Images Trained\", \"Images Successfully Trained!\",parent=Memberwindow)"
   ]
  }
 ],
 "metadata": {
  "kernelspec": {
   "display_name": "Python 3.7.0 64-bit",
   "language": "python",
   "name": "python3"
  },
  "language_info": {
   "codemirror_mode": {
    "name": "ipython",
    "version": 3
   },
   "file_extension": ".py",
   "mimetype": "text/x-python",
   "name": "python",
   "nbconvert_exporter": "python",
   "pygments_lexer": "ipython3",
   "version": "3.7.0 (v3.7.0:1bf9cc5093, Jun 27 2018, 04:59:51) [MSC v.1914 64 bit (AMD64)]"
  },
  "vscode": {
   "interpreter": {
    "hash": "5109d816b82be14675a6b11f8e0f0d2e80f029176ed3710d54e125caa8520dfd"
   }
  }
 },
 "nbformat": 4,
 "nbformat_minor": 5
}
