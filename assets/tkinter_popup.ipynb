{
 "cells": [
  {
   "cell_type": "code",
   "execution_count": 1,
   "metadata": {},
   "outputs": [
    {
     "name": "stdout",
     "output_type": "stream",
     "text": [
      "C:/Users/dell/Downloads/C260M60ApplicationForm (1).pdf\n",
      "C260M60ApplicationForm (1).pdf\n",
      "C260M60ApplicationForm (1).pdf\n"
     ]
    }
   ],
   "source": [
    "import tkinter\n",
    "from tkinter import ttk\n",
    "from tkinter.ttk import *\n",
    "from tkinter import filedialog\n",
    "\n",
    "s = \"\"\n",
    "\n",
    "\n",
    "def mainFunction():\n",
    "\n",
    "    def fileLoad():\n",
    "        root.filename = filedialog.askopenfilename(initialdir=\"\", title=\"Select A file\", filetypes=(\n",
    "            ('pdf files', '*.pdf'), (\"all files\", \"*.*\")))\n",
    "        print(root.filename)\n",
    "        global s\n",
    "        s = root.filename\n",
    "        if len(root.filename) != 0:\n",
    "            my_label = tkinter.Label(root, text=root.filename).pack()\n",
    "            root.destroy()\n",
    "\n",
    "    root = tkinter.Tk()\n",
    "    root.title(\"Assignment Submission Portal\")\n",
    "    root.iconbitmap('')\n",
    "    root.geometry('300x300')\n",
    "    root.resizable(False, False)\n",
    "    root.configure(background=\"#344A70\")\n",
    "    myButton = tkinter.Button(root, text=\"Open File\", command=fileLoad).pack()\n",
    "\n",
    "    root.mainloop()\n",
    "    s2=\"\"    \n",
    "    for char in s[ :  : -1] :\n",
    "        if char=='/' :\n",
    "            break\n",
    "        s2=char+s2\n",
    "    print(s2)\n",
    "    return s2\n",
    "\n",
    "\n",
    "print(mainFunction())\n"
   ]
  }
 ],
 "metadata": {
  "kernelspec": {
   "display_name": "Python 3.7.0 64-bit",
   "language": "python",
   "name": "python3"
  },
  "language_info": {
   "codemirror_mode": {
    "name": "ipython",
    "version": 3
   },
   "file_extension": ".py",
   "mimetype": "text/x-python",
   "name": "python",
   "nbconvert_exporter": "python",
   "pygments_lexer": "ipython3",
   "version": "3.7.0"
  },
  "orig_nbformat": 4,
  "vscode": {
   "interpreter": {
    "hash": "5109d816b82be14675a6b11f8e0f0d2e80f029176ed3710d54e125caa8520dfd"
   }
  }
 },
 "nbformat": 4,
 "nbformat_minor": 2
}
